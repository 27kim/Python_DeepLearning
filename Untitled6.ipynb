{
 "cells": [
  {
   "cell_type": "code",
   "execution_count": 1,
   "metadata": {},
   "outputs": [
    {
     "name": "stdout",
     "output_type": "stream",
     "text": [
      "61\n",
      "1~100 숫자를 입력하세요50\n",
      "더 크지롱\n",
      "1~100 숫자를 입력하세요70\n",
      "더 작지롱\n",
      "1~100 숫자를 입력하세요61\n",
      "정답\n"
     ]
    }
   ],
   "source": [
    "import random\n",
    "rnd = random.randint(1,100) # 1~100 사이 난수\n",
    "\n",
    "print(rnd)\n",
    "\n",
    "\n",
    "while True :    \n",
    "    a= input(\"1~100 숫자를 입력하세요\")\n",
    "    if rnd == int(a) :\n",
    "        print(\"정답\") \n",
    "        break\n",
    "    elif rnd > int(a) :\n",
    "        print(\"더 크지롱\")            \n",
    "    else :    \n",
    "        print(\"더 작지롱\")   \n",
    "        "
   ]
  },
  {
   "cell_type": "code",
   "execution_count": null,
   "metadata": {},
   "outputs": [],
   "source": []
  }
 ],
 "metadata": {
  "kernelspec": {
   "display_name": "Python 3",
   "language": "python",
   "name": "python3"
  },
  "language_info": {
   "codemirror_mode": {
    "name": "ipython",
    "version": 3
   },
   "file_extension": ".py",
   "mimetype": "text/x-python",
   "name": "python",
   "nbconvert_exporter": "python",
   "pygments_lexer": "ipython3",
   "version": "3.6.5"
  }
 },
 "nbformat": 4,
 "nbformat_minor": 2
}
